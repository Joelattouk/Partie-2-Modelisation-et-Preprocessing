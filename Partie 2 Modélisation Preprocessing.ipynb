{
 "cells": [
  {
   "cell_type": "code",
   "execution_count": 10,
   "metadata": {},
   "outputs": [],
   "source": [
    "import pandas as pd\n",
    "import numpy as np\n",
    "import matplotlib.pyplot as plt\n",
    "import seaborn as sns\n",
    "import os\n",
    "from warnings import filterwarnings\n",
    "filterwarnings('ignore')\n",
    "from scipy.stats import skew, kurtosis, jarque_bera\n",
    "from sklearn.preprocessing import StandardScaler\n",
    "from sklearn.model_selection import train_test_split\n",
    "from sklearn.linear_model import LinearRegression\n",
    "from sklearn import metrics\n",
    "from sklearn.model_selection import cross_val_score"
   ]
  },
  {
   "cell_type": "code",
   "execution_count": 2,
   "metadata": {},
   "outputs": [],
   "source": [
    "os.chdir('C:/Users/Joel/Desktop/Serie temporelle')"
   ]
  },
  {
   "cell_type": "code",
   "execution_count": 3,
   "metadata": {},
   "outputs": [],
   "source": [
    "df = pd.read_csv('FINAL_USO.csv', index_col=\"Date\", parse_dates = True)"
   ]
  },
  {
   "cell_type": "markdown",
   "metadata": {},
   "source": [
    "### - [**Regression Linéaire Simple**](#Regression-Linéaire-Simple)\n",
    "### - [**Regression Linéaire Multiple**](#Regression-Linéaire-Multiple)\n",
    "### - [**Preprocessing**](#Preprocessing)"
   ]
  },
  {
   "cell_type": "markdown",
   "metadata": {},
   "source": [
    "### Train et Test Set"
   ]
  },
  {
   "cell_type": "code",
   "execution_count": 4,
   "metadata": {},
   "outputs": [],
   "source": [
    "trainset, testset = train_test_split(df, train_size=0.7, random_state=0)"
   ]
  },
  {
   "cell_type": "code",
   "execution_count": 5,
   "metadata": {},
   "outputs": [
    {
     "data": {
      "text/plain": [
       "(1202, 80)"
      ]
     },
     "execution_count": 5,
     "metadata": {},
     "output_type": "execute_result"
    }
   ],
   "source": [
    "trainset.shape"
   ]
  },
  {
   "cell_type": "code",
   "execution_count": 6,
   "metadata": {},
   "outputs": [
    {
     "data": {
      "text/plain": [
       "(516, 80)"
      ]
     },
     "execution_count": 6,
     "metadata": {},
     "output_type": "execute_result"
    }
   ],
   "source": [
    "testset.shape"
   ]
  },
  {
   "cell_type": "code",
   "execution_count": 7,
   "metadata": {},
   "outputs": [],
   "source": [
    "X_train, y_train = trainset.drop('Adj Close', axis=1), trainset['Adj Close']"
   ]
  },
  {
   "cell_type": "code",
   "execution_count": 8,
   "metadata": {},
   "outputs": [],
   "source": [
    "X_test, y_test = testset.drop('Adj Close', axis=1), testset['Adj Close']"
   ]
  },
  {
   "cell_type": "code",
   "execution_count": 9,
   "metadata": {},
   "outputs": [
    {
     "data": {
      "text/plain": [
       "Date\n",
       "2017-03-16    116.730003\n",
       "2014-06-02    119.699997\n",
       "2015-07-23    104.330002\n",
       "2018-10-23    116.389999\n",
       "2014-09-25    117.389999\n",
       "                 ...    \n",
       "2015-06-15    113.730003\n",
       "2016-12-22    107.589996\n",
       "2018-09-26    113.050003\n",
       "2014-05-05    126.220001\n",
       "2014-11-04    112.220001\n",
       "Name: Adj Close, Length: 1202, dtype: float64"
      ]
     },
     "execution_count": 9,
     "metadata": {},
     "output_type": "execute_result"
    }
   ],
   "source": [
    "y_train"
   ]
  },
  {
   "cell_type": "markdown",
   "metadata": {},
   "source": [
    "### R Carré ajusté"
   ]
  },
  {
   "cell_type": "code",
   "execution_count": 11,
   "metadata": {},
   "outputs": [],
   "source": [
    "def R2_Ajuste(r2,n,k):\n",
    "    \n",
    "    return r2-(k-1)/(n-k)*(1-r2)"
   ]
  },
  {
   "cell_type": "code",
   "execution_count": 12,
   "metadata": {},
   "outputs": [],
   "source": [
    "Performance = pd.DataFrame({'Model': [],\n",
    "                           'Details':[],\n",
    "                           'Racine Carrée ECM':[],\n",
    "                           'R2 (train)':[],\n",
    "                           'R2 Ajusté (train)':[],\n",
    "                           'R2 (test)':[],\n",
    "                           'R2 Ajusté (test)':[],\n",
    "                           '5-Fold Cross Validation':[],\n",
    "                           'Prix moyen de l\\'Or': []})"
   ]
  },
  {
   "cell_type": "code",
   "execution_count": 13,
   "metadata": {},
   "outputs": [
    {
     "data": {
      "text/html": [
       "<div>\n",
       "<style scoped>\n",
       "    .dataframe tbody tr th:only-of-type {\n",
       "        vertical-align: middle;\n",
       "    }\n",
       "\n",
       "    .dataframe tbody tr th {\n",
       "        vertical-align: top;\n",
       "    }\n",
       "\n",
       "    .dataframe thead th {\n",
       "        text-align: right;\n",
       "    }\n",
       "</style>\n",
       "<table border=\"1\" class=\"dataframe\">\n",
       "  <thead>\n",
       "    <tr style=\"text-align: right;\">\n",
       "      <th></th>\n",
       "      <th>Model</th>\n",
       "      <th>Details</th>\n",
       "      <th>Racine Carrée ECM</th>\n",
       "      <th>R2 (train)</th>\n",
       "      <th>R2 Ajusté (train)</th>\n",
       "      <th>R2 (test)</th>\n",
       "      <th>R2 Ajusté (test)</th>\n",
       "      <th>5-Fold Cross Validation</th>\n",
       "      <th>Prix moyen de l'Or</th>\n",
       "    </tr>\n",
       "  </thead>\n",
       "  <tbody>\n",
       "  </tbody>\n",
       "</table>\n",
       "</div>"
      ],
      "text/plain": [
       "Empty DataFrame\n",
       "Columns: [Model, Details, Racine Carrée ECM, R2 (train), R2 Ajusté (train), R2 (test), R2 Ajusté (test), 5-Fold Cross Validation, Prix moyen de l'Or]\n",
       "Index: []"
      ]
     },
     "execution_count": 13,
     "metadata": {},
     "output_type": "execute_result"
    }
   ],
   "source": [
    "Performance"
   ]
  },
  {
   "cell_type": "markdown",
   "metadata": {},
   "source": [
    "### Regression Linéaire Simple\n",
    "- L'objet de cette section est de voir l'impact d'une seule variable sur la cible (Regression simple)\n",
    "- Pour cette regression nous alons retenir la variable qui a la plus grande corrélation avec Cible\n",
    "$$F_{\\theta}(X)=\\theta_{0}+\\theta_{1}x$$"
   ]
  },
  {
   "cell_type": "code",
   "execution_count": 14,
   "metadata": {},
   "outputs": [
    {
     "data": {
      "text/plain": [
       "Close            1.000000\n",
       "Adj Close        1.000000\n",
       "High             0.999535\n",
       "Low              0.999532\n",
       "Open             0.998976\n",
       "GDX_Low          0.975561\n",
       "GDX_Close        0.975459\n",
       "GDX_High         0.975255\n",
       "GDX_Adj Close    0.974980\n",
       "GDX_Open         0.974824\n",
       "SF_Low           0.947842\n",
       "SF_Price         0.947420\n",
       "SF_Open          0.945557\n",
       "SF_High          0.945203\n",
       "EG_low           0.863917\n",
       "EG_open          0.862900\n",
       "EG_close         0.862770\n",
       "EG_high          0.861479\n",
       "EG_Ajclose       0.859850\n",
       "PLT_Price        0.775861\n",
       "PLT_High         0.775481\n",
       "PLT_Low          0.773993\n",
       "PLT_Open         0.773760\n",
       "OF_High          0.711334\n",
       "OF_Price         0.710693\n",
       "OF_Open          0.709096\n",
       "OF_Low           0.708266\n",
       "SF_Volume        0.706505\n",
       "USO_Adj Close    0.635675\n",
       "USO_Close        0.635675\n",
       "USO_High         0.635311\n",
       "USO_Open         0.635197\n",
       "USO_Low          0.634732\n",
       "OS_High          0.632001\n",
       "OS_Price         0.630817\n",
       "OS_Open          0.630046\n",
       "OS_Low           0.629083\n",
       "EU_high          0.582969\n",
       "EU_Price         0.581036\n",
       "EU_open          0.579036\n",
       "EU_low           0.577000\n",
       "Volume           0.246778\n",
       "SP_volume        0.241949\n",
       "RHO_PRICE        0.095782\n",
       "OS_Trend         0.059510\n",
       "OF_Trend         0.048205\n",
       "SF_Trend         0.028100\n",
       "PLD_Trend        0.026536\n",
       "EU_Trend         0.019913\n",
       "PLT_Trend        0.011355\n",
       "USDI_Trend      -0.016641\n",
       "USB_Trend       -0.025933\n",
       "EG_volume       -0.126586\n",
       "DJ_volume       -0.155526\n",
       "USDI_Volume     -0.205954\n",
       "PLD_Price       -0.213179\n",
       "PLD_Low         -0.214919\n",
       "PLD_Open        -0.216426\n",
       "PLD_High        -0.217490\n",
       "OF_Volume       -0.225436\n",
       "USB_Low         -0.417352\n",
       "USB_Open        -0.440822\n",
       "USB_Price       -0.441347\n",
       "USO_Volume      -0.456193\n",
       "USB_High        -0.464116\n",
       "GDX_Volume      -0.514616\n",
       "DJ_low          -0.588157\n",
       "DJ_Ajclose      -0.588411\n",
       "DJ_close        -0.588411\n",
       "DJ_high         -0.588778\n",
       "DJ_open         -0.588800\n",
       "SP_Ajclose      -0.666071\n",
       "SP_low          -0.683750\n",
       "SP_close        -0.684284\n",
       "SP_open         -0.684618\n",
       "SP_high         -0.684904\n",
       "USDI_High       -0.720023\n",
       "USDI_Open       -0.720140\n",
       "USDI_Price      -0.721569\n",
       "USDI_Low        -0.722078\n",
       "Name: Adj Close, dtype: float64"
      ]
     },
     "execution_count": 14,
     "metadata": {},
     "output_type": "execute_result"
    }
   ],
   "source": [
    "pd.set_option('display.max_rows', 80)\n",
    "(df.corr()['Adj Close']).sort_values(ascending=False)"
   ]
  },
  {
   "cell_type": "markdown",
   "metadata": {},
   "source": [
    "- Nous retenons la variables **Close et High** qui sont parfaitement corrélé avec la cible"
   ]
  },
  {
   "cell_type": "code",
   "execution_count": 16,
   "metadata": {},
   "outputs": [],
   "source": [
    "model = LinearRegression()"
   ]
  },
  {
   "cell_type": "markdown",
   "metadata": {},
   "source": [
    "#### 1. Adj Close et Close"
   ]
  },
  {
   "cell_type": "code",
   "execution_count": 18,
   "metadata": {},
   "outputs": [
    {
     "name": "stdout",
     "output_type": "stream",
     "text": [
      "Ordonnée à l'Origine: 0.0\n",
      "Pente: [1.]\n"
     ]
    },
    {
     "data": {
      "text/html": [
       "<div>\n",
       "<style scoped>\n",
       "    .dataframe tbody tr th:only-of-type {\n",
       "        vertical-align: middle;\n",
       "    }\n",
       "\n",
       "    .dataframe tbody tr th {\n",
       "        vertical-align: top;\n",
       "    }\n",
       "\n",
       "    .dataframe thead th {\n",
       "        text-align: right;\n",
       "    }\n",
       "</style>\n",
       "<table border=\"1\" class=\"dataframe\">\n",
       "  <thead>\n",
       "    <tr style=\"text-align: right;\">\n",
       "      <th></th>\n",
       "      <th>Model</th>\n",
       "      <th>Details</th>\n",
       "      <th>Racine Carrée ECM</th>\n",
       "      <th>R2 (train)</th>\n",
       "      <th>R2 Ajusté (train)</th>\n",
       "      <th>R2 (test)</th>\n",
       "      <th>R2 Ajusté (test)</th>\n",
       "      <th>5-Fold Cross Validation</th>\n",
       "      <th>Prix moyen de l'Or</th>\n",
       "    </tr>\n",
       "  </thead>\n",
       "  <tbody>\n",
       "    <tr>\n",
       "      <th>0</th>\n",
       "      <td>Regression Linéaire simple Avec Close</td>\n",
       "      <td>-</td>\n",
       "      <td>0.0</td>\n",
       "      <td>1.0</td>\n",
       "      <td>-</td>\n",
       "      <td>1.0</td>\n",
       "      <td>-</td>\n",
       "      <td>1.0</td>\n",
       "      <td>127.524903</td>\n",
       "    </tr>\n",
       "  </tbody>\n",
       "</table>\n",
       "</div>"
      ],
      "text/plain": [
       "                                    Model Details  Racine Carrée ECM  \\\n",
       "0  Regression Linéaire simple Avec Close        -                0.0   \n",
       "\n",
       "   R2 (train) R2 Ajusté (train)  R2 (test) R2 Ajusté (test)  \\\n",
       "0         1.0                 -        1.0                -   \n",
       "\n",
       "   5-Fold Cross Validation  Prix moyen de l'Or  \n",
       "0                      1.0          127.524903  "
      ]
     },
     "execution_count": 18,
     "metadata": {},
     "output_type": "execute_result"
    }
   ],
   "source": [
    "X1_train = np.array(X_train['Close'], dtype=pd.Series).reshape(X_train.shape[0], 1)\n",
    "y1_train = np.array(y_train, dtype=pd.Series)\n",
    "\n",
    "X1_test = np.array(X_test['Close'], dtype=pd.Series).reshape(X_test.shape[0], 1)\n",
    "y1_test = np.array(y_test, dtype=pd.Series)\n",
    "\n",
    "model.fit(X1_train, y1_train)\n",
    "y_pred = model.predict(X1_test)\n",
    "\n",
    "RECM = np.sqrt(metrics.mean_squared_error(y1_test,y_pred))\n",
    "R2_train = model.score(X1_train, y1_train)\n",
    "R2_test = model.score(X1_test, y1_test)\n",
    "cv = cross_val_score(model,trainset[['Close']],trainset['Adj Close'],cv=5).mean()\n",
    "\n",
    "prix = y1_test.mean()\n",
    "print('Ordonnée à l\\'Origine: {}'.format(model.intercept_))\n",
    "print('Pente: {}'.format(model.coef_))\n",
    "\n",
    "r = Performance.shape[0]\n",
    "Performance.loc[r] = ['Regression Linéaire simple Avec Close ','-',RECM, R2_train, '-',R2_test,'-',cv, prix]\n",
    "Performance"
   ]
  },
  {
   "cell_type": "code",
   "execution_count": 19,
   "metadata": {},
   "outputs": [
    {
     "data": {
      "image/png": "[encoded data removed]",
      "text/plain": [
       "<Figure size 468x360 with 1 Axes>"
      ]
     },
     "metadata": {
      "needs_background": "light"
     },
     "output_type": "display_data"
    }
   ],
   "source": [
    "plt.figure(figsize=(6.5,5))\n",
    "plt.scatter(X1_test,y1_test,color='darkgreen',label=\"Donnée\", alpha=.1)\n",
    "plt.plot(X1_test,model.predict(X1_test),color=\"red\",label=\"Prediction\")\n",
    "plt.xlabel(\"Prix à la fermeture\", fontsize=15)\n",
    "plt.ylabel(\"Price de L'Or\", fontsize=15)\n",
    "plt.xticks(fontsize=13)\n",
    "plt.yticks(fontsize=13)\n",
    "plt.legend()\n",
    "\n",
    "plt.gca().spines['right'].set_visible(False)\n",
    "plt.gca().spines['top'].set_visible(False)"
   ]
  },
  {
   "cell_type": "markdown",
   "metadata": {},
   "source": [
    "- On constate que le modèle fait une erreur de 0%. Le modèle passe effectivement par tous les points"
   ]
  },
  {
   "cell_type": "markdown",
   "metadata": {},
   "source": [
    "#### 2. Adj Close et High"
   ]
  },
  {
   "cell_type": "code",
   "execution_count": 20,
   "metadata": {},
   "outputs": [
    {
     "name": "stdout",
     "output_type": "stream",
     "text": [
      "Ordonnée à l'Origine: 0.0\n",
      "Pente: [1.]\n"
     ]
    },
    {
     "data": {
      "text/html": [
       "<div>\n",
       "<style scoped>\n",
       "    .dataframe tbody tr th:only-of-type {\n",
       "        vertical-align: middle;\n",
       "    }\n",
       "\n",
       "    .dataframe tbody tr th {\n",
       "        vertical-align: top;\n",
       "    }\n",
       "\n",
       "    .dataframe thead th {\n",
       "        text-align: right;\n",
       "    }\n",
       "</style>\n",
       "<table border=\"1\" class=\"dataframe\">\n",
       "  <thead>\n",
       "    <tr style=\"text-align: right;\">\n",
       "      <th></th>\n",
       "      <th>Model</th>\n",
       "      <th>Details</th>\n",
       "      <th>Racine Carrée ECM</th>\n",
       "      <th>R2 (train)</th>\n",
       "      <th>R2 Ajusté (train)</th>\n",
       "      <th>R2 (test)</th>\n",
       "      <th>R2 Ajusté (test)</th>\n",
       "      <th>5-Fold Cross Validation</th>\n",
       "      <th>Prix moyen de l'Or</th>\n",
       "    </tr>\n",
       "  </thead>\n",
       "  <tbody>\n",
       "    <tr>\n",
       "      <th>0</th>\n",
       "      <td>Regression Linéaire simple Avec Close</td>\n",
       "      <td>-</td>\n",
       "      <td>0.0</td>\n",
       "      <td>1.000000</td>\n",
       "      <td>-</td>\n",
       "      <td>1.000000</td>\n",
       "      <td>-</td>\n",
       "      <td>1.000000</td>\n",
       "      <td>127.524903</td>\n",
       "    </tr>\n",
       "    <tr>\n",
       "      <th>1</th>\n",
       "      <td>Regression Linéaire simple Avec High</td>\n",
       "      <td>-</td>\n",
       "      <td>0.0</td>\n",
       "      <td>0.998124</td>\n",
       "      <td>-</td>\n",
       "      <td>0.998065</td>\n",
       "      <td>-</td>\n",
       "      <td>0.999052</td>\n",
       "      <td>127.524903</td>\n",
       "    </tr>\n",
       "  </tbody>\n",
       "</table>\n",
       "</div>"
      ],
      "text/plain": [
       "                                    Model Details  Racine Carrée ECM  \\\n",
       "0  Regression Linéaire simple Avec Close        -                0.0   \n",
       "1   Regression Linéaire simple Avec High        -                0.0   \n",
       "\n",
       "   R2 (train) R2 Ajusté (train)  R2 (test) R2 Ajusté (test)  \\\n",
       "0    1.000000                 -   1.000000                -   \n",
       "1    0.998124                 -   0.998065                -   \n",
       "\n",
       "   5-Fold Cross Validation  Prix moyen de l'Or  \n",
       "0                 1.000000          127.524903  \n",
       "1                 0.999052          127.524903  "
      ]
     },
     "execution_count": 20,
     "metadata": {},
     "output_type": "execute_result"
    }
   ],
   "source": [
    "X1_train = np.array(X_train['High'], dtype=pd.Series).reshape(X_train.shape[0], 1)\n",
    "y1_train = np.array(y_train, dtype=pd.Series)\n",
    "\n",
    "X1_test = np.array(X_test['High'], dtype=pd.Series).reshape(X_test.shape[0], 1)\n",
    "y1_test = np.array(y_test, dtype=pd.Series)\n",
    "\n",
    "RECM = np.sqrt(metrics.mean_squared_error(y1_test,y_pred))\n",
    "R2_train = model.score(X1_train, y1_train)\n",
    "R2_test = model.score(X1_test, y1_test)\n",
    "cv = cross_val_score(model,trainset[['High']],trainset['Adj Close'],cv=5).mean()\n",
    "\n",
    "prix = y1_test.mean()\n",
    "print('Ordonnée à l\\'Origine: {}'.format(model.intercept_))\n",
    "print('Pente: {}'.format(model.coef_))\n",
    "\n",
    "r = Performance.shape[0]\n",
    "Performance.loc[r] = ['Regression Linéaire simple Avec High ','-',RECM, R2_train, '-',R2_test,'-',cv, prix]\n",
    "Performance"
   ]
  },
  {
   "cell_type": "markdown",
   "metadata": {},
   "source": [
    "### Adj Close et DJ_open"
   ]
  },
  {
   "cell_type": "code",
   "execution_count": 21,
   "metadata": {},
   "outputs": [
    {
     "name": "stdout",
     "output_type": "stream",
     "text": [
      "Ordonnée à l'Origine: 0.0\n",
      "Pente: [1.]\n"
     ]
    },
    {
     "data": {
      "text/html": [
       "<div>\n",
       "<style scoped>\n",
       "    .dataframe tbody tr th:only-of-type {\n",
       "        vertical-align: middle;\n",
       "    }\n",
       "\n",
       "    .dataframe tbody tr th {\n",
       "        vertical-align: top;\n",
       "    }\n",
       "\n",
       "    .dataframe thead th {\n",
       "        text-align: right;\n",
       "    }\n",
       "</style>\n",
       "<table border=\"1\" class=\"dataframe\">\n",
       "  <thead>\n",
       "    <tr style=\"text-align: right;\">\n",
       "      <th></th>\n",
       "      <th>Model</th>\n",
       "      <th>Details</th>\n",
       "      <th>Racine Carrée ECM</th>\n",
       "      <th>R2 (train)</th>\n",
       "      <th>R2 Ajusté (train)</th>\n",
       "      <th>R2 (test)</th>\n",
       "      <th>R2 Ajusté (test)</th>\n",
       "      <th>5-Fold Cross Validation</th>\n",
       "      <th>Prix moyen de l'Or</th>\n",
       "    </tr>\n",
       "  </thead>\n",
       "  <tbody>\n",
       "    <tr>\n",
       "      <th>0</th>\n",
       "      <td>Regression Linéaire simple Avec Close</td>\n",
       "      <td>-</td>\n",
       "      <td>0.0</td>\n",
       "      <td>1.000000e+00</td>\n",
       "      <td>-</td>\n",
       "      <td>1.000000e+00</td>\n",
       "      <td>-</td>\n",
       "      <td>1.000000</td>\n",
       "      <td>127.524903</td>\n",
       "    </tr>\n",
       "    <tr>\n",
       "      <th>1</th>\n",
       "      <td>Regression Linéaire simple Avec High</td>\n",
       "      <td>-</td>\n",
       "      <td>0.0</td>\n",
       "      <td>9.981243e-01</td>\n",
       "      <td>-</td>\n",
       "      <td>9.980646e-01</td>\n",
       "      <td>-</td>\n",
       "      <td>0.999052</td>\n",
       "      <td>127.524903</td>\n",
       "    </tr>\n",
       "    <tr>\n",
       "      <th>2</th>\n",
       "      <td>Regression Linéaire simple Avec DJ_open</td>\n",
       "      <td>-</td>\n",
       "      <td>0.0</td>\n",
       "      <td>-1.133616e+06</td>\n",
       "      <td>-</td>\n",
       "      <td>-1.050653e+06</td>\n",
       "      <td>-</td>\n",
       "      <td>0.348782</td>\n",
       "      <td>127.524903</td>\n",
       "    </tr>\n",
       "  </tbody>\n",
       "</table>\n",
       "</div>"
      ],
      "text/plain": [
       "                                     Model Details  Racine Carrée ECM  \\\n",
       "0   Regression Linéaire simple Avec Close        -                0.0   \n",
       "1    Regression Linéaire simple Avec High        -                0.0   \n",
       "2  Regression Linéaire simple Avec DJ_open       -                0.0   \n",
       "\n",
       "     R2 (train) R2 Ajusté (train)     R2 (test) R2 Ajusté (test)  \\\n",
       "0  1.000000e+00                 -  1.000000e+00                -   \n",
       "1  9.981243e-01                 -  9.980646e-01                -   \n",
       "2 -1.133616e+06                 - -1.050653e+06                -   \n",
       "\n",
       "   5-Fold Cross Validation  Prix moyen de l'Or  \n",
       "0                 1.000000          127.524903  \n",
       "1                 0.999052          127.524903  \n",
       "2                 0.348782          127.524903  "
      ]
     },
     "execution_count": 21,
     "metadata": {},
     "output_type": "execute_result"
    }
   ],
   "source": [
    "X1_train = np.array(X_train['DJ_open'], dtype=pd.Series).reshape(X_train.shape[0], 1)\n",
    "y1_train = np.array(y_train, dtype=pd.Series)\n",
    "\n",
    "X1_test = np.array(X_test['DJ_open'], dtype=pd.Series).reshape(X_test.shape[0], 1)\n",
    "y1_test = np.array(y_test, dtype=pd.Series)\n",
    "\n",
    "RECM = np.sqrt(metrics.mean_squared_error(y1_test,y_pred))\n",
    "R2_train = model.score(X1_train, y1_train)\n",
    "R2_test = model.score(X1_test, y1_test)\n",
    "cv = cross_val_score(model,trainset[['DJ_open']],trainset['Adj Close'],cv=5).mean()\n",
    "\n",
    "prix = y1_test.mean()\n",
    "print('Ordonnée à l\\'Origine: {}'.format(model.intercept_))\n",
    "print('Pente: {}'.format(model.coef_))\n",
    "\n",
    "r = Performance.shape[0]\n",
    "Performance.loc[r] = ['Regression Linéaire simple Avec DJ_open','-',RECM, R2_train, '-',R2_test,'-',cv, prix]\n",
    "Performance"
   ]
  },
  {
   "cell_type": "markdown",
   "metadata": {},
   "source": [
    "### Regression Linéaire Multiple\n",
    "- L'objet de cette section est de voir l'impact de toutes les variable sur la cible (Regression simple)2\n",
    "\n",
    "$$F_{\\theta}(X)=\\theta_{0}+\\theta_{1}X1+\\theta_{2}X2+....+\\theta_{1}Xn$$"
   ]
  },
  {
   "cell_type": "code",
   "execution_count": 22,
   "metadata": {},
   "outputs": [
    {
     "data": {
      "text/html": [
       "<div>\n",
       "<style scoped>\n",
       "    .dataframe tbody tr th:only-of-type {\n",
       "        vertical-align: middle;\n",
       "    }\n",
       "\n",
       "    .dataframe tbody tr th {\n",
       "        vertical-align: top;\n",
       "    }\n",
       "\n",
       "    .dataframe thead th {\n",
       "        text-align: right;\n",
       "    }\n",
       "</style>\n",
       "<table border=\"1\" class=\"dataframe\">\n",
       "  <thead>\n",
       "    <tr style=\"text-align: right;\">\n",
       "      <th></th>\n",
       "      <th>Model</th>\n",
       "      <th>Details</th>\n",
       "      <th>Racine Carrée ECM</th>\n",
       "      <th>R2 (train)</th>\n",
       "      <th>R2 Ajusté (train)</th>\n",
       "      <th>R2 (test)</th>\n",
       "      <th>R2 Ajusté (test)</th>\n",
       "      <th>5-Fold Cross Validation</th>\n",
       "      <th>Prix moyen de l'Or</th>\n",
       "    </tr>\n",
       "  </thead>\n",
       "  <tbody>\n",
       "    <tr>\n",
       "      <th>0</th>\n",
       "      <td>Regression Linéaire simple Avec Close</td>\n",
       "      <td>-</td>\n",
       "      <td>0.0</td>\n",
       "      <td>1.000000e+00</td>\n",
       "      <td>-</td>\n",
       "      <td>1.000000e+00</td>\n",
       "      <td>-</td>\n",
       "      <td>1.000000</td>\n",
       "      <td>127.524903</td>\n",
       "    </tr>\n",
       "    <tr>\n",
       "      <th>1</th>\n",
       "      <td>Regression Linéaire simple Avec High</td>\n",
       "      <td>-</td>\n",
       "      <td>0.0</td>\n",
       "      <td>9.981243e-01</td>\n",
       "      <td>-</td>\n",
       "      <td>9.980646e-01</td>\n",
       "      <td>-</td>\n",
       "      <td>0.999052</td>\n",
       "      <td>127.524903</td>\n",
       "    </tr>\n",
       "    <tr>\n",
       "      <th>2</th>\n",
       "      <td>Regression Linéaire simple Avec DJ_open</td>\n",
       "      <td>-</td>\n",
       "      <td>0.0</td>\n",
       "      <td>-1.133616e+06</td>\n",
       "      <td>-</td>\n",
       "      <td>-1.050653e+06</td>\n",
       "      <td>-</td>\n",
       "      <td>0.348782</td>\n",
       "      <td>127.524903</td>\n",
       "    </tr>\n",
       "    <tr>\n",
       "      <th>3</th>\n",
       "      <td>Regression Linéaire Multiple</td>\n",
       "      <td>Toutes les Variables</td>\n",
       "      <td>0.0</td>\n",
       "      <td>1.000000e+00</td>\n",
       "      <td>1.0</td>\n",
       "      <td>1.000000e+00</td>\n",
       "      <td>1.0</td>\n",
       "      <td>1.000000</td>\n",
       "      <td>127.524903</td>\n",
       "    </tr>\n",
       "  </tbody>\n",
       "</table>\n",
       "</div>"
      ],
      "text/plain": [
       "                                     Model               Details  \\\n",
       "0   Regression Linéaire simple Avec Close                      -   \n",
       "1    Regression Linéaire simple Avec High                      -   \n",
       "2  Regression Linéaire simple Avec DJ_open                     -   \n",
       "3             Regression Linéaire Multiple  Toutes les Variables   \n",
       "\n",
       "   Racine Carrée ECM    R2 (train) R2 Ajusté (train)     R2 (test)  \\\n",
       "0                0.0  1.000000e+00                 -  1.000000e+00   \n",
       "1                0.0  9.981243e-01                 -  9.980646e-01   \n",
       "2                0.0 -1.133616e+06                 - -1.050653e+06   \n",
       "3                0.0  1.000000e+00               1.0  1.000000e+00   \n",
       "\n",
       "  R2 Ajusté (test)  5-Fold Cross Validation  Prix moyen de l'Or  \n",
       "0                -                 1.000000          127.524903  \n",
       "1                -                 0.999052          127.524903  \n",
       "2                -                 0.348782          127.524903  \n",
       "3              1.0                 1.000000          127.524903  "
      ]
     },
     "execution_count": 22,
     "metadata": {},
     "output_type": "execute_result"
    }
   ],
   "source": [
    "model.fit(X_train, y_train)\n",
    "\n",
    "RECM = np.sqrt(metrics.mean_squared_error(y_test,y_pred))\n",
    "R2_train = model.score(X_train, y1_train)\n",
    "R2_test = model.score(X_test, y1_test)\n",
    "cv = cross_val_score(model,X_train,y_train,cv=5).mean()\n",
    "\n",
    "prix = y_test.mean()\n",
    "R_ajuste = R2_Ajuste(R2_train, trainset.shape[0], X_train.shape[1])\n",
    "Rtest_ajuste = R2_Ajuste(R2_test, testset.shape[0], X_test.shape[1])\n",
    "r = Performance.shape[0]\n",
    "Performance.loc[r] = ['Regression Linéaire Multiple','Toutes les Variables',RECM, R2_train, R_ajuste ,R2_test, Rtest_ajuste,cv, prix]\n",
    "Performance"
   ]
  },
  {
   "cell_type": "markdown",
   "metadata": {},
   "source": [
    "#### Conclusion\n",
    "\n",
    "- **Au terme de cette première approche de modélisation et de la matrice de corrélation (Analyse exploratoire Partie 1) entre toutes nos variables, nous retenons que plusieurs variables sont dépendantes. Ce faisant, une selection de variables sera très importante lors du prétraitement (OpenClassroom)**\n",
    "\n",
    "- [Plus d'info](https://openclassrooms.com/fr/courses/4444646-entrainez-un-modele-predictif-lineaire/4444653-trouvez-une-combinaison-lineaire-de-variables-qui-approxime-leurs-etiquettes#/id/r-4521401)"
   ]
  },
  {
   "cell_type": "markdown",
   "metadata": {},
   "source": [
    "# Preprocessing\n",
    "- Selection de Variable;\n",
    "- Normalisation\n",
    "- Traitement de Valeur Aberrante"
   ]
  },
  {
   "cell_type": "code",
   "execution_count": null,
   "metadata": {},
   "outputs": [],
   "source": []
  }
 ],
 "metadata": {
  "kernelspec": {
   "display_name": "Python 3",
   "language": "python",
   "name": "python3"
  },
  "language_info": {
   "codemirror_mode": {
    "name": "ipython",
    "version": 3
   },
   "file_extension": ".py",
   "mimetype": "text/x-python",
   "name": "python",
   "nbconvert_exporter": "python",
   "pygments_lexer": "ipython3",
   "version": "3.8.3"
  }
 },
 "nbformat": 4,
 "nbformat_minor": 4
}
